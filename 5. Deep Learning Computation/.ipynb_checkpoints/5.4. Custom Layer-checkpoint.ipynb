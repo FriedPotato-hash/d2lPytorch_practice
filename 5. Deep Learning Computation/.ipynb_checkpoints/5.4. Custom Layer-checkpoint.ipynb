{
 "cells": [
  {
   "cell_type": "markdown",
   "id": "5b995b9d",
   "metadata": {},
   "source": [
    "# 5.3.1 Layers without Parameters"
   ]
  },
  {
   "cell_type": "code",
   "execution_count": 9,
   "id": "596e6764",
   "metadata": {},
   "outputs": [],
   "source": [
    "import torch \n",
    "from torch import nn\n",
    "from torch.nn import functional as F\n",
    "\n",
    "class CenteredLayer(nn.Module):\n",
    "    def __init__(self):\n",
    "        super().__init__()\n",
    "        \n",
    "    def forward(self, X):\n",
    "        return X-X.mean()\n",
    "    \n",
    "net = nn.Sequential(nn.Linear(8,128), CenteredLayer())\n",
    "import torch \n",
    "from torch import nn\n",
    "from torch.nn import functional as F"
   ]
  },
  {
   "cell_type": "code",
   "execution_count": 10,
   "id": "a39b5baf",
   "metadata": {},
   "outputs": [],
   "source": [
    "class CenteredLayer(nn.Module):\n",
    "    def __init__(self):\n",
    "        super().__init__()\n",
    "        \n",
    "    def forward(self, X):\n",
    "        return X-X.mean()\n",
    "    \n",
    "net = nn.Sequential(nn.Linear(8,128), CenteredLayer())"
   ]
  },
  {
   "cell_type": "markdown",
   "id": "f0e0831e",
   "metadata": {},
   "source": [
    "# 5.3.2 Layers with Parameters"
   ]
  },
  {
   "cell_type": "code",
   "execution_count": 11,
   "id": "a1b6599e",
   "metadata": {},
   "outputs": [
    {
     "data": {
      "text/plain": [
       "Parameter containing:\n",
       "tensor([[ 1.2804, -0.8459, -1.0987],\n",
       "        [-1.2706,  1.2450, -0.9302],\n",
       "        [ 0.5308,  0.2114, -1.4672],\n",
       "        [-1.0717, -1.8174,  0.6573],\n",
       "        [-0.2910, -0.4409, -0.4740]], requires_grad=True)"
      ]
     },
     "execution_count": 11,
     "metadata": {},
     "output_type": "execute_result"
    }
   ],
   "source": [
    "class MyLinear(nn.Module):\n",
    "    def __init__(self, in_units, units):\n",
    "        super().__init__()\n",
    "        self.weight = nn.Parameter(torch.randn(in_units, units))\n",
    "        self.bias = nn.Parameter(torch.randn(units,))\n",
    "    def forward(self,X):\n",
    "        linear = torch.matmul(X, self.weight.data)+self.bias.data\n",
    "        return F.relu(linear)\n",
    "linear = MyLinear(5,3)\n",
    "linear.weight"
   ]
  },
  {
   "cell_type": "code",
   "execution_count": 17,
   "id": "46d76900",
   "metadata": {},
   "outputs": [
    {
     "data": {
      "text/plain": [
       "tensor([[0.],\n",
       "        [0.]])"
      ]
     },
     "execution_count": 17,
     "metadata": {},
     "output_type": "execute_result"
    }
   ],
   "source": [
    "net = nn.Sequential(MyLinear(64,8), MyLinear(8,1))\n",
    "net(torch.rand(2,64))"
   ]
  },
  {
   "cell_type": "markdown",
   "id": "15549e34",
   "metadata": {},
   "source": [
    "# Exercises"
   ]
  },
  {
   "cell_type": "code",
   "execution_count": 18,
   "id": "74ea02c7",
   "metadata": {},
   "outputs": [
    {
     "data": {
      "text/plain": [
       "tensor([[0.7670],\n",
       "        [0.4206]])"
      ]
     },
     "execution_count": 18,
     "metadata": {},
     "output_type": "execute_result"
    }
   ],
   "source": [
    "# 1. Design a layer that takes an input and computes a tensor reduction\n",
    "class ex1_Layer(nn.Module):\n",
    "    def __init__(self, in_units, units, ):\n",
    "        super().__init__()\n",
    "        self.weight = nn.Parameter(torch.randn(in_units, units))\n",
    "    def forward(self,X):\n",
    "        linear = torch.matmul(X, self.weight.data)\n",
    "        return F.relu(linear)\n",
    "net = nn.Sequential(ex1_Layer(20,4), ex1_Layer(4,1))\n",
    "net(torch.rand(2,20))"
   ]
  },
  {
   "cell_type": "code",
   "execution_count": 14,
   "id": "cc35231f",
   "metadata": {},
   "outputs": [],
   "source": [
    "# 2. Design a layer that returns the leading half of the Fourier coefficients of the data."
   ]
  },
  {
   "cell_type": "code",
   "execution_count": 16,
   "id": "78f1b0f2",
   "metadata": {},
   "outputs": [],
   "source": [
    "import numpy as np\n",
    "def fourier_series_coeff_numpy(f, T, N, return_complex=False):\n",
    "    \"\"\"Calculates the first 2*N+1 Fourier series coeff. of a periodic function.\n",
    "    Given a periodic, function f(t) with period T, this function returns the\n",
    "    coefficients a0, {a1,a2,...},{b1,b2,...} such that:\n",
    "    f(t) ~= a0/2+ sum_{k=1}^{N} ( a_k*cos(2*pi*k*t/T) + b_k*sin(2*pi*k*t/T) )\n",
    "    If return_complex is set to True, it returns instead the coefficients\n",
    "    {c0,c1,c2,...}\n",
    "    such that:\n",
    "    f(t) ~= sum_{k=-N}^{N} c_k * exp(i*2*pi*k*t/T)\n",
    "    where we define c_{-n} = complex_conjugate(c_{n})\n",
    "\n",
    "    Refer to wikipedia for the relation between the real-valued and complex\n",
    "    valued coeffs at http://en.wikipedia.org/wiki/Fourier_series.\n",
    "\n",
    "    Parameters\n",
    "    ----------\n",
    "    f : the periodic function, a callable like f(t)\n",
    "    T : the period of the function f, so that f(0)==f(T)\n",
    "    N_max : the function will return the first N_max + 1 Fourier coeff.\n",
    "    Returns\n",
    "    -------\n",
    "    if return_complex == False, the function returns:\n",
    "    a0 : float\n",
    "    a,b : numpy float arrays describing respectively the cosine and sine coeff.\n",
    "    if return_complex == True, the function returns:\n",
    "    c : numpy 1-dimensional complex-valued array of size N+1\n",
    "    \"\"\"\n",
    "    # From Shanon theoreom we must use a sampling freq. larger than the maximum\n",
    "    # frequency you want to catch in the signal.\n",
    "    f_sample = 2 * N\n",
    "    # we also need to use an integer sampling frequency, or the\n",
    "    # points will not be equispaced between 0 and 1. We then add +2 to f_sample\n",
    "    t, dt = np.linspace(0, T, f_sample + 2, endpoint=False, retstep=True)\n",
    "    y = np.fft.rfft(f(t)) / t.size\n",
    "    if return_complex:\n",
    "        return y\n",
    "    else:\n",
    "        y *= 2\n",
    "        return y[0].real, y[1:-1].real, -y[1:-1].imag\n",
    "    \n",
    "class ex2_Layer(nn.Module):\n",
    "    def __init__(self, in_units, units, ):\n",
    "        super().__init__()\n",
    "        self.weight = nn.Parameter(torch.randn(in_units, units))\n",
    "    def forward(self,X):\n",
    "        linear = fourier_series_coeff_numpy(f, T, N)\n",
    "        return F.relu(linear)\n"
   ]
  },
  {
   "cell_type": "code",
   "execution_count": null,
   "id": "f9f4d648",
   "metadata": {},
   "outputs": [],
   "source": []
  }
 ],
 "metadata": {
  "kernelspec": {
   "display_name": "Python 3 (ipykernel)",
   "language": "python",
   "name": "python3"
  },
  "language_info": {
   "codemirror_mode": {
    "name": "ipython",
    "version": 3
   },
   "file_extension": ".py",
   "mimetype": "text/x-python",
   "name": "python",
   "nbconvert_exporter": "python",
   "pygments_lexer": "ipython3",
   "version": "3.9.6"
  }
 },
 "nbformat": 4,
 "nbformat_minor": 5
}
