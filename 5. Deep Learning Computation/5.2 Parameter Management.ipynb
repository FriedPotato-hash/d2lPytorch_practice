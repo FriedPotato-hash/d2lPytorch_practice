{
 "cells": [
  {
   "cell_type": "markdown",
   "id": "544d115d",
   "metadata": {},
   "source": [
    "Accessing parameters for debugging, diagnostics, and visualizations.\n",
    "\n",
    "Parameter initialization.\n",
    "\n",
    "Sharing parameters across different model components."
   ]
  },
  {
   "cell_type": "code",
   "execution_count": 1,
   "id": "eeb8d386",
   "metadata": {},
   "outputs": [
    {
     "data": {
      "text/plain": [
       "tensor([[-0.0580],\n",
       "        [ 0.0045]], grad_fn=<AddmmBackward>)"
      ]
     },
     "execution_count": 1,
     "metadata": {},
     "output_type": "execute_result"
    }
   ],
   "source": [
    "import torch\n",
    "from torch import nn\n",
    "\n",
    "net = nn.Sequential(nn.Linear(4,8), nn.ReLU(), nn.Linear(8,1))\n",
    "X = torch.rand(size=(2,4))\n",
    "net(X)"
   ]
  },
  {
   "cell_type": "markdown",
   "id": "1f623ea6",
   "metadata": {},
   "source": [
    "### 5.2.1 Parameter Access"
   ]
  },
  {
   "cell_type": "code",
   "execution_count": 2,
   "id": "ec8fed30",
   "metadata": {},
   "outputs": [
    {
     "name": "stdout",
     "output_type": "stream",
     "text": [
      "OrderedDict([('weight', tensor([[-0.1843, -0.3107,  0.0330,  0.1771, -0.3446,  0.0716,  0.3247, -0.2141]])), ('bias', tensor([0.0839]))])\n"
     ]
    }
   ],
   "source": [
    "# net의 2번째 요소, Linear(8,1)의 state dict\n",
    "print(net[2].state_dict())"
   ]
  },
  {
   "cell_type": "markdown",
   "id": "39bc24af",
   "metadata": {},
   "source": [
    "### 5.2.1.1 Targeted Parameters"
   ]
  },
  {
   "cell_type": "code",
   "execution_count": 5,
   "id": "ed72137c",
   "metadata": {},
   "outputs": [
    {
     "name": "stdout",
     "output_type": "stream",
     "text": [
      "<class 'torch.nn.parameter.Parameter'>\n",
      "Parameter containing:\n",
      "tensor([0.0839], requires_grad=True)\n",
      "tensor([0.0839])\n"
     ]
    },
    {
     "data": {
      "text/plain": [
       "True"
      ]
     },
     "execution_count": 5,
     "metadata": {},
     "output_type": "execute_result"
    }
   ],
   "source": [
    "# bias라는 data의 type, class, data 접근\n",
    "\n",
    "print(type(net[2].bias))\n",
    "print(net[2].bias)\n",
    "print(net[2].bias.data)\n",
    "\n",
    "# each parametes의 grad에도 접근 가능!\n",
    "\n",
    "net[2].weight.grad == None #아직 학습되지 않아서, None(초기화상태)"
   ]
  },
  {
   "cell_type": "code",
   "execution_count": null,
   "id": "01f4cadb",
   "metadata": {},
   "outputs": [],
   "source": []
  }
 ],
 "metadata": {
  "kernelspec": {
   "display_name": "Python 3 (ipykernel)",
   "language": "python",
   "name": "python3"
  },
  "language_info": {
   "codemirror_mode": {
    "name": "ipython",
    "version": 3
   },
   "file_extension": ".py",
   "mimetype": "text/x-python",
   "name": "python",
   "nbconvert_exporter": "python",
   "pygments_lexer": "ipython3",
   "version": "3.9.6"
  }
 },
 "nbformat": 4,
 "nbformat_minor": 5
}
