{
 "cells": [
  {
   "cell_type": "markdown",
   "id": "28cb2092",
   "metadata": {},
   "source": [
    "그동안은 이전 token들에 기반하여 그 다음 토큰을 유추해 내는 것이 주된 목표가 되었다. 하지만 이전 토큰들과 그 이후의 토큰들을 반영하여 특정 위치의 문자를 유추해 낼 수 있지 않을까? \n",
    "\n",
    "이를 Bidirectional하게 유추한다고 한다.\n",
    "다음을 보자\n",
    "\n",
    "I am ___.\n",
    "\n",
    "I am ___ hungry.\n",
    "\n",
    "I am ___ hungry, and I can eat half a pig.\n",
    "\n",
    "\n",
    "뒤에 추가되는 문장을 고려하거나 고려하지 않음에 따라 빈칸에 들어갈 수 있는 단어는 'happy', 'not', 'very'로 달라진다. 즉, longer-range context가 매우 중요하다는 것을 확인할 수 있다."
   ]
  },
  {
   "cell_type": "markdown",
   "id": "170192ac",
   "metadata": {},
   "source": [
    "# 9.4.1. Dynamic Programming in Hidden Markov Models"
   ]
  },
  {
   "cell_type": "code",
   "execution_count": null,
   "id": "8ca1e10a",
   "metadata": {},
   "outputs": [],
   "source": []
  }
 ],
 "metadata": {
  "kernelspec": {
   "display_name": "Python 3 (ipykernel)",
   "language": "python",
   "name": "python3"
  },
  "language_info": {
   "codemirror_mode": {
    "name": "ipython",
    "version": 3
   },
   "file_extension": ".py",
   "mimetype": "text/x-python",
   "name": "python",
   "nbconvert_exporter": "python",
   "pygments_lexer": "ipython3",
   "version": "3.9.6"
  }
 },
 "nbformat": 4,
 "nbformat_minor": 5
}
