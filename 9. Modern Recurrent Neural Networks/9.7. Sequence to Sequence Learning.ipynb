{
 "cells": [
  {
   "attachments": {
    "image.png": {
     "image/png": "[encoded data removed]"
    }
   },
   "cell_type": "markdown",
   "id": "39da378c",
   "metadata": {},
   "source": [
    "입력 문자열과 출력 문자열이 매 문장마다 다르다는 문제점이 있었고, \n",
    "이를 해결하기 위해 Encoder-decoder가 도입되었다.\n",
    "\n",
    "이를 구현하기 위해 두개의 RNN을 사용할 것.\n",
    "이는 RNN이 우선 variable-length의 문자열을 입력으로 받아서, 고정된 모양의 hidden-state로 계산한다. 그 다음 decoder로 들어가 새로운 문자열을 출력해 내는 것이다\n",
    "\n",
    "![image.png](attachment:image.png)\n",
    "\n",
    "\n",
    "\"eos\"는 문장의 끝을 의미한다고 했는데, 해당 토큰이 생성되면, 모델은 prediction을 멈추게 된다.\n",
    "    \n",
    "“bos”, “Ils”, “regardent”, “.”  “Ils”, “regardent”, “.”, “eos”.\n",
    "\n"
   ]
  },
  {
   "cell_type": "code",
   "execution_count": 1,
   "id": "464df282",
   "metadata": {},
   "outputs": [],
   "source": [
    "import collections\n",
    "import math\n",
    "import torch\n",
    "from torch import nn\n",
    "from d2l import torch as d2l"
   ]
  },
  {
   "cell_type": "markdown",
   "id": "75858f58",
   "metadata": {},
   "source": [
    "# 9.7.1. Encoder\n",
    "\n",
    "- unidirectional RNN에 대한 수식\n",
    "\n",
    "\\begin{split}\\begin{aligned}\n",
    "\\mathbf{h}_t = f(\\mathbf{x}_t, \\mathbf{h}_{t-1}).\n",
    "\\end{aligned}\\end{split}\n",
    "\n",
    "- bidirectional RNN에 대한 설명\n",
    "\n",
    "bidirectional RNN의 경우에는 hidden state가 이전과 이후 time step의 결과에 영향을 받는다. "
   ]
  },
  {
   "cell_type": "code",
   "execution_count": 2,
   "id": "49934831",
   "metadata": {},
   "outputs": [],
   "source": [
    "class Seq2seqEncoder(d2l.Encoder):\n",
    "    \"\"\"\n",
    "    RNN encoder\n",
    "    \"\"\"\n",
    "    def __init__(self, vocab_size, emb_size, num_hiddens, num_layers, dropout=0, **kwargs):\n",
    "        super(Seq2seqEncoder, self).__init__(**kwargs)\n",
    "        self.embedding = nn.Embedding(vocab_size, emb_size)\n",
    "        self.rnn = nn.GRU(emb_size, num_hiddens, num_layers, dropout=dropout)\n",
    "    def forward(self, X, *args):\n",
    "        X = self.embedding(X)\n",
    "        # RNN에 입력으로 들어가려면, 첫번째 축이 time step이어야 한다.\n",
    "        X = X.permute(1,0,2)\n",
    "        output, state = self.rnn(X)\n",
    "        \n",
    "        # output shape: (num_steps, batch_size, num_hiddens)\n",
    "        # state shape: (num_steps, batch_size, num_hiddens)\n",
    "        return output, state\n",
    "        \n",
    "        "
   ]
  },
  {
   "cell_type": "code",
   "execution_count": 4,
   "id": "64c8c773",
   "metadata": {},
   "outputs": [
    {
     "data": {
      "text/plain": [
       "torch.Size([7, 4, 16])"
      ]
     },
     "execution_count": 4,
     "metadata": {},
     "output_type": "execute_result"
    }
   ],
   "source": [
    "encoder = Seq2seqEncoder(vocab_size=10, emb_size=8, num_hiddens=16, num_layers=2)\n",
    "encoder.eval()\n",
    "\n",
    "# batch size: 4, num_of_timesteps: 7\n",
    "X = torch.zeros((4,7), dtype=torch.long)\n",
    "output, state = encoder(X)\n",
    "output.shape"
   ]
  },
  {
   "cell_type": "code",
   "execution_count": 5,
   "id": "9c3c4a98",
   "metadata": {},
   "outputs": [
    {
     "data": {
      "text/plain": [
       "torch.Size([2, 4, 16])"
      ]
     },
     "execution_count": 5,
     "metadata": {},
     "output_type": "execute_result"
    }
   ],
   "source": [
    "# num layer, batch size, num hiddens\n",
    "state.shape"
   ]
  },
  {
   "cell_type": "markdown",
   "id": "a20abbb5",
   "metadata": {},
   "source": [
    "# 9.7.2. Decoder\n"
   ]
  }
 ],
 "metadata": {
  "kernelspec": {
   "display_name": "Python 3 (ipykernel)",
   "language": "python",
   "name": "python3"
  },
  "language_info": {
   "codemirror_mode": {
    "name": "ipython",
    "version": 3
   },
   "file_extension": ".py",
   "mimetype": "text/x-python",
   "name": "python",
   "nbconvert_exporter": "python",
   "pygments_lexer": "ipython3",
   "version": "3.9.6"
  }
 },
 "nbformat": 4,
 "nbformat_minor": 5
}
