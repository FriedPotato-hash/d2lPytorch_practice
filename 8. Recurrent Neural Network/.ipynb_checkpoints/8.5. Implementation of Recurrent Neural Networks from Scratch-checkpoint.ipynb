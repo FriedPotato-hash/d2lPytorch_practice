{
 "cells": [
  {
   "cell_type": "markdown",
   "id": "87e634eb",
   "metadata": {},
   "source": [
    "# 8.5.1. One-Hot Encoding"
   ]
  },
  {
   "cell_type": "code",
   "execution_count": 2,
   "id": "2403babb",
   "metadata": {},
   "outputs": [],
   "source": [
    "%matplotlib inline\n",
    "\n",
    "import math\n",
    "import torch\n",
    "from torch import nn\n",
    "from torch.nn import functional as F\n",
    "from d2l import torch as d2l\n",
    "\n",
    "batch_size, num_steps = 32, 35\n",
    "train_iter, vocab = d2l.load_data_time_machine(batch_size, num_steps)"
   ]
  },
  {
   "cell_type": "code",
   "execution_count": 7,
   "id": "6fde6dfe",
   "metadata": {},
   "outputs": [
    {
     "data": {
      "text/plain": [
       "tensor([[1, 0, 0, 0, 0, 0, 0, 0, 0, 0, 0, 0, 0, 0, 0, 0, 0, 0, 0, 0, 0, 0, 0, 0,\n",
       "         0, 0, 0, 0],\n",
       "        [0, 0, 1, 0, 0, 0, 0, 0, 0, 0, 0, 0, 0, 0, 0, 0, 0, 0, 0, 0, 0, 0, 0, 0,\n",
       "         0, 0, 0, 0]])"
      ]
     },
     "execution_count": 7,
     "metadata": {},
     "output_type": "execute_result"
    }
   ],
   "source": [
    "F.one_hot(torch.tensor([0, 2]), len(vocab))\n",
    "# len(vocab) = 28"
   ]
  },
  {
   "cell_type": "code",
   "execution_count": 9,
   "id": "fd14b980",
   "metadata": {},
   "outputs": [
    {
     "name": "stdout",
     "output_type": "stream",
     "text": [
      "torch.Size([2, 5])\n"
     ]
    },
    {
     "data": {
      "text/plain": [
       "torch.Size([5, 2, 28])"
      ]
     },
     "execution_count": 9,
     "metadata": {},
     "output_type": "execute_result"
    }
   ],
   "source": [
    "X = torch.arange(10).reshape((2,5))\n",
    "print(X.shape)\n",
    "F.one_hot(X.T, 28).shape"
   ]
  },
  {
   "cell_type": "markdown",
   "id": "85d412c9",
   "metadata": {},
   "source": [
    "# 8.5.2. Initializing the Model Parameters"
   ]
  },
  {
   "cell_type": "code",
   "execution_count": 10,
   "id": "f5c09ecb",
   "metadata": {},
   "outputs": [],
   "source": [
    "def get_params(vocab_size, num_hiddens, device):\n",
    "    num_inputs = num_outputs = vocab_size\n",
    "    \n",
    "    def normal(shape):\n",
    "        return torch.randn(size=shape, device=device)*0.01\n",
    "    \n",
    "    # Hidden Layer parameters\n",
    "    W_xh = normal((num_inputs, num_hiddens))\n",
    "    W_hh = normal((num_hiddens, num_hiddens))\n",
    "    b_h = torch.zeros(num_hiddens, device=device)\n",
    "    # Output layer parameters\n",
    "    W_hq = normal((num_hiddens, num_outputs))\n",
    "    b_q = torch.zeros(num_outputs, device=device)\n",
    "    # Attach gradients\n",
    "    params = [W_xh, W_hh, b_h, W_hq, b_q]\n",
    "    for param in params:\n",
    "        param.requires_grad_(True)\n",
    "    return params"
   ]
  },
  {
   "cell_type": "markdown",
   "id": "3aa4117f",
   "metadata": {},
   "source": [
    "# 8.5.3. RNN Model"
   ]
  },
  {
   "cell_type": "code",
   "execution_count": 11,
   "id": "f6556737",
   "metadata": {},
   "outputs": [],
   "source": [
    "# 초기화 과정\n",
    "# (batch size, num of hiddens) 사이즈의 torch를 return 한다.\n",
    "\n",
    "def init_rnn_state(batch_size, num_hiddens, device):\n",
    "    return (torch.zeros((batch_size, num_hiddens), device=device),)"
   ]
  },
  {
   "cell_type": "code",
   "execution_count": 12,
   "id": "6a6b36b7",
   "metadata": {},
   "outputs": [],
   "source": [
    "def rnn(inputs, state, params):\n",
    "    # 인풋 shape: (num_steps, batch_size, vocab_size)\n",
    "    W_xh, W_hh, b_h, W_hq, b_q = params\n",
    "    H, = state\n",
    "    outputs = []\n",
    "    # X shape: (batch_size, vocab size)\n",
    "    for X in inputs:\n",
    "        H = torch.tanh(torch.mm(X, W_xh)+torch.mm(H, W_hh) + b_h)\n",
    "        Y = torch.mm(H, W_hq) + b_q\n",
    "        outputs.append(Y)\n",
    "    return torch.cat(outputs, dim=0), (H,)"
   ]
  },
  {
   "cell_type": "code",
   "execution_count": 14,
   "id": "6a914a94",
   "metadata": {},
   "outputs": [],
   "source": [
    "class RNNModelScratch:\n",
    "    \"\"\"\n",
    "    A RNN Model implemented from scratch\n",
    "    \"\"\"\n",
    "    def __init__(self, vocab_size, num_hiddens, device, get_params, init_state, forward_fn):\n",
    "        self.vocab_size, self.num_hiddens = vocab_size, num_hiddens\n",
    "        self.params = get_params(vocab_size, num_hiddens, device)\n",
    "        self.init_state, self.forward_fn = init_state, forward_fn\n",
    "        \n",
    "    def __call__(self, X, state):\n",
    "        X = F.one_hot(X.T, self.vocab_size).type(torch.float32)\n",
    "        return self.forward_fn(X, state, self.params)\n",
    "    def begin_state(self, batch_size, device):\n",
    "        return self.init_state(batch_size, self.num_hiddens, device)        "
   ]
  },
  {
   "cell_type": "code",
   "execution_count": 16,
   "id": "f5bf9684",
   "metadata": {},
   "outputs": [
    {
     "data": {
      "text/plain": [
       "(torch.Size([10, 28]), 1, torch.Size([2, 512]))"
      ]
     },
     "execution_count": 16,
     "metadata": {},
     "output_type": "execute_result"
    }
   ],
   "source": [
    "num_hiddens = 512\n",
    "net = RNNModelScratch(len(vocab), num_hiddens, d2l.try_gpu(), get_params, init_rnn_state, rnn)\n",
    "state = net.begin_state(X.shape[0], d2l.try_gpu())\n",
    "Y, new_state = net(X.to(d2l.try_gpu()), state)\n",
    "\n",
    "Y.shape, len(new_state), new_state[0].shape\n",
    "\n",
    "#Output shape: (num of time steps x batch size, vocab size)"
   ]
  },
  {
   "cell_type": "markdown",
   "id": "e4266d06",
   "metadata": {},
   "source": [
    "# 8.5.4. Prediction\n",
    "\n",
    "model이 스스로 업데이트는 하지만, 어떠한 output도 내지 않을 때 이를 'warm - up'이라고 한다. 해당 과정을 거치면, hidden state가 초기화된 값들을 사용할 때보다는 전반적으로 더 나아진다."
   ]
  },
  {
   "cell_type": "code",
   "execution_count": 22,
   "id": "2196d4bc",
   "metadata": {},
   "outputs": [],
   "source": [
    "def predict_ch8(prefix, num_preds, net, vocab, device):  #@save\n",
    "    \"\"\"Generate new characters following the `prefix`.\"\"\"\n",
    "    state = net.begin_state(batch_size=1, device=device)\n",
    "    outputs = [vocab[prefix[0]]]\n",
    "    get_input = lambda: torch.tensor([outputs[-1]], device=device).reshape((1, 1))\n",
    "    for y in prefix[1:]:  # Warm-up period\n",
    "        _, state = net(get_input(), state)\n",
    "        outputs.append(vocab[y])\n",
    "    for _ in range(num_preds):  # Predict `num_preds` steps\n",
    "        y, state = net(get_input(), state)\n",
    "        outputs.append(int(y.argmax(dim=1).reshape(1)))\n",
    "    return ''.join([vocab.idx_to_token[i] for i in outputs])"
   ]
  },
  {
   "cell_type": "code",
   "execution_count": 23,
   "id": "8f1222e5",
   "metadata": {},
   "outputs": [
    {
     "data": {
      "text/plain": [
       "'time traveller bexc<unk>dunjx'"
      ]
     },
     "execution_count": 23,
     "metadata": {},
     "output_type": "execute_result"
    }
   ],
   "source": [
    "# prefix를 time traveller로 두고, 예측을 진행. \n",
    "# 10개의 추가적인 character를 생성해 내는데, 아직 네트워크 학습을 안했기에 \n",
    "# 적절한 결과가 나오지 않고 있음\n",
    "\n",
    "predict_ch8('time traveller ', 10, net, vocab, d2l.try_gpu())"
   ]
  },
  {
   "attachments": {
    "image.png": {
     "image/png": "[encoded data removed]"
    }
   },
   "cell_type": "markdown",
   "id": "d4a5e9f5",
   "metadata": {},
   "source": [
    "# 8.5.5. Gradient Clipping\n",
    "\n",
    "문자열의 길이가 매우 큰 경우에 numerical instability를 불러올 수 있다. gradient가 폭발하거나 사라져 버릴 수 있다는 말인데, 이를 해결하기 위해서는 학습 과정에 추가적인 처리가 필요하다.\n",
    "\n",
    "gradient가 일정 threshold를 넘기는 경우에는 clipping을 해준다. clipping이라는 것은, gradient의 L2 norm으로 나눠주는 방식이다.\n",
    "\n",
    "![image.png](attachment:image.png)\n",
    "\n",
    "cliping이 없을 때, gradient가 너무 뛰어서 global minimum에 도달하지 못하고 너무 엉뚱한 방향으로 향하게 되지만, clipping을 하게 되면 gradient vector가 방향은 유지하되 적은 값만큼 이동하여 도달하려고 하는 곳으로 '안정'하게 내려가게 된다."
   ]
  },
  {
   "cell_type": "code",
   "execution_count": 24,
   "id": "2bfa7b0d",
   "metadata": {},
   "outputs": [],
   "source": [
    "def grad_clipping(net, theta):\n",
    "    \"\"\"\n",
    "    Clipping the gradient\n",
    "    \"\"\"\n",
    "    if isinstance(net, nn.Module):\n",
    "        params = [p for p in net.parameters() if p.requires_grad]\n",
    "    else:\n",
    "        params = net.params\n",
    "    norm = torch.sqrt(sum(torch.sum((p.grad**2)) for p in params))\n",
    "    if norm>theta:\n",
    "        for param in params:\n",
    "            param.grad[:] *= theta/norm"
   ]
  },
  {
   "cell_type": "markdown",
   "id": "eeb747b6",
   "metadata": {},
   "source": [
    "# 8.5.6. Training\n",
    "\n",
    "학습할 때 유의할 점.\n",
    "\n",
    "1. 순서열 데이터에 대한 다른 sampling method들은 각각 hidden state의 초기화에서 다른 결과를 낼 것.\n",
    "2. model parameter들을 업데이트하기 전에, gradient clipping을 진행할 것. 이는 gradient가 매우 커져도 모델이 발산하지 않음을 의미한다.\n",
    "3. Perplexity(언어모델의 Generation 성능 파악 지표)를 사용할 것.\n",
    "\n",
    "특히, sequential partitioning이 사용될 때, hidden state를 각 에폭 시작 시점에서 한번 진행한다.\n",
    "\n",
    "\n",
    "\n",
    "Specifically, when sequential partitioning is used, we initialize the hidden state only at the beginning of each epoch. Since the  subsequence example in the next minibatch is adjacent to the current  subsequence example, the hidden state at the end of the current minibatch will be used to initialize the hidden state at the beginning of the next minibatch. In this way, historical information of the sequence stored in the hidden state might flow over adjacent subsequences within an epoch. However, the computation of the hidden state at any point depends on all the previous minibatches in the same epoch, which complicates the gradient computation. To reduce computational cost, we detach the gradient before processing any minibatch so that the gradient computation of the hidden state is always limited to the time steps in one minibatch.\n",
    "\n",
    "When using the random sampling, we need to re-initialize the hidden state for each iteration since each example is sampled with a random position. Same as the train_epoch_ch3 function in Section 3.6, updater is a general function to update the model parameters. It can be either the d2l.sgd function implemented from scratch or the built-in optimization function in a deep learning framework."
   ]
  },
  {
   "cell_type": "code",
   "execution_count": 26,
   "id": "b28a06c0",
   "metadata": {},
   "outputs": [],
   "source": [
    "def train_epoch_ch8(net, train_iter, loss, updater, device, use_random_iter):\n",
    "    \"\"\"\n",
    "    한 개 에폭에 대해서 net 학습\n",
    "    \"\"\"\n",
    "    state, times = None, d2l.Timer()\n",
    "    metric = d2l.Accumulator(2) # Sum of training loss, no. of tokens\n",
    "    \n",
    "    for X, Y in train_iter:\n",
    "        if state is None or use_random_iter:\n",
    "            # 첫번째 iteration이거나, random sampling을 사용하는 경우,\n",
    "            # state를 초기화\n",
    "            state = net.begin_state(batch_size=X.shape[0], device=device)\n",
    "        else:\n",
    "            if isinstance(net, nn.Module) and not isinstance(state, tuple):\n",
    "                state.detach_()\n",
    "            else:\n",
    "                for s in state:\n",
    "                    s.detach_()\n",
    "        y = Y.T.reshape(-1)\n",
    "        X, y = X.to(device), y.to(device)\n",
    "        y_hat, state = net(X, state)\n",
    "        l = loss(y_hat, y.long()).mean()\n",
    "        \n",
    "        if isinstance(updater, torch.optim.Optimizer):\n",
    "            updater.zero_grad()\n",
    "            l.backward()\n",
    "            grad_clipping(net, 1)\n",
    "            updater.step()\n",
    "        else:\n",
    "            l.backward()\n",
    "            grad_clipping(net, 1)\n",
    "            updater(batch_size=1)\n",
    "        metric.add(l*y.numel(), y.numel())\n",
    "    return match.exp(metric[0]/metric[1]), metric[1]/timer.stop()\n",
    "            "
   ]
  },
  {
   "cell_type": "code",
   "execution_count": null,
   "id": "891a1cce",
   "metadata": {},
   "outputs": [],
   "source": [
    "def train_ch8(net, train_iter)"
   ]
  }
 ],
 "metadata": {
  "kernelspec": {
   "display_name": "Python 3 (ipykernel)",
   "language": "python",
   "name": "python3"
  },
  "language_info": {
   "codemirror_mode": {
    "name": "ipython",
    "version": 3
   },
   "file_extension": ".py",
   "mimetype": "text/x-python",
   "name": "python",
   "nbconvert_exporter": "python",
   "pygments_lexer": "ipython3",
   "version": "3.9.6"
  }
 },
 "nbformat": 4,
 "nbformat_minor": 5
}
