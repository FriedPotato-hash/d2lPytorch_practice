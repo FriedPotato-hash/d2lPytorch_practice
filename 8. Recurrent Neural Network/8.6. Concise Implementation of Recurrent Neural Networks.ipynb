{
 "cells": [
  {
   "cell_type": "markdown",
   "id": "6f39bc57",
   "metadata": {},
   "source": [
    "이전 섹션에서 RNN을 어떻게 만드는지 살펴보았는데, 이는 매우 번거로운 과정이었음.\n",
    "이번 섹션에서는 고차원 API들을 사용하여 빠르고 편리하게 RNN을 만들어 보는 과정을 가져보겠음. "
   ]
  },
  {
   "cell_type": "code",
   "execution_count": 3,
   "id": "64ab6ea4",
   "metadata": {},
   "outputs": [],
   "source": [
    "import torch \n",
    "from torch import nn\n",
    "from torch.nn import functional as F\n",
    "from d2l import torch as d2l\n",
    "\n",
    "batch_size, num_steps = 32, 35\n",
    "train_iter, vocab = d2l.load_data_time_machine(batch_size, num_steps)"
   ]
  },
  {
   "cell_type": "markdown",
   "id": "b081b323",
   "metadata": {},
   "source": [
    "# 8.6.1. Defining the Model\n",
    "\n",
    "이전에는 256개의 hidden unit을 갖는 한 층의 hidden layer를 사용하였다. 다층의 은닉층을 사용하면서, RNN의 한 층의 결과가 다음 층의 입력으로 들어갈 수 있도록 하였다."
   ]
  },
  {
   "cell_type": "code",
   "execution_count": 4,
   "id": "a042afc5",
   "metadata": {},
   "outputs": [],
   "source": [
    "num_hiddens = 256\n",
    "rnn_layer = nn.RNN(len(vocab), num_hiddens)"
   ]
  },
  {
   "cell_type": "code",
   "execution_count": 5,
   "id": "065a2484",
   "metadata": {},
   "outputs": [
    {
     "data": {
      "text/plain": [
       "torch.Size([1, 32, 256])"
      ]
     },
     "execution_count": 5,
     "metadata": {},
     "output_type": "execute_result"
    }
   ],
   "source": [
    "state = torch.zeros((1, batch_size, num_hiddens))\n",
    "state.shape"
   ]
  },
  {
   "cell_type": "code",
   "execution_count": null,
   "id": "7a3ade6a",
   "metadata": {},
   "outputs": [],
   "source": [
    "sta"
   ]
  }
 ],
 "metadata": {
  "kernelspec": {
   "display_name": "Python 3 (ipykernel)",
   "language": "python",
   "name": "python3"
  },
  "language_info": {
   "codemirror_mode": {
    "name": "ipython",
    "version": 3
   },
   "file_extension": ".py",
   "mimetype": "text/x-python",
   "name": "python",
   "nbconvert_exporter": "python",
   "pygments_lexer": "ipython3",
   "version": "3.9.6"
  }
 },
 "nbformat": 4,
 "nbformat_minor": 5
}
