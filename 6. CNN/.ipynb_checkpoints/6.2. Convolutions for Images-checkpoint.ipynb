{
 "cells": [
  {
   "cell_type": "markdown",
   "id": "c4b68986",
   "metadata": {},
   "source": [
    "# 6.2.1. The Cross-Correlation Operation"
   ]
  },
  {
   "cell_type": "code",
   "execution_count": 4,
   "id": "dddda010",
   "metadata": {},
   "outputs": [
    {
     "data": {
      "text/plain": [
       "tensor([[19., 25.],\n",
       "        [37., 43.]])"
      ]
     },
     "execution_count": 4,
     "metadata": {},
     "output_type": "execute_result"
    }
   ],
   "source": [
    "import torch\n",
    "from torch import nn\n",
    "from d2l import torch as d2l\n",
    "\n",
    "def corr2d(X,K): # X: Input, K: Kernal\n",
    "    \"\"\"Compute 2D cross-correlation\"\"\"\n",
    "    h,w = K.shape\n",
    "    Y = torch.zeros((X.shape[0]-h+1, X.shape[1]-w+1)) # Y=activation map\n",
    "    for i in range(Y.shape[0]):\n",
    "        for j in range(Y.shape[1]):\n",
    "            Y[i,j] = (X[i:i+h, j:j+w]*K).sum()\n",
    "    return Y\n",
    "\n",
    "X = torch.tensor([[0.0, 1.0, 2.0], [3.0, 4.0, 5.0], [6.0, 7.0, 8.0]])\n",
    "K = torch.tensor([[0.0, 1.0], [2.0, 3.0]])\n",
    "corr2d(X, K)"
   ]
  },
  {
   "cell_type": "markdown",
   "id": "bee13c8d",
   "metadata": {},
   "source": [
    "# 6.2.2. Convolution Layers"
   ]
  },
  {
   "cell_type": "code",
   "execution_count": 6,
   "id": "04c2468a",
   "metadata": {},
   "outputs": [],
   "source": [
    "class Conv2D(nn.Module):\n",
    "    def __init__(self, kernel_size):\n",
    "        super().__init__()\n",
    "        self.weight = nn.Parameter(torch.rand(kernel_size))\n",
    "        self.bias = nn.Parameter(torch.zeros(1))\n",
    "        \n",
    "    def forward(self,x):\n",
    "        return corr2d(x, self.weight) + self.bias"
   ]
  },
  {
   "cell_type": "markdown",
   "id": "b659d244",
   "metadata": {},
   "source": [
    "# 6.2.3. Object Edge Detection in Images"
   ]
  },
  {
   "cell_type": "markdown",
   "id": "55c298af",
   "metadata": {},
   "source": [
    "A Simple application of a Convolutional Layer\n",
    "\n",
    "-> detecting the edge of an object in an image by finding the lcoation of pixel change.\n",
    "\n",
    "-> We construct an \"image\" of (6,8). The middle four columns are black(0) and the rest are white(1)."
   ]
  },
  {
   "cell_type": "code",
   "execution_count": 7,
   "id": "98979f5b",
   "metadata": {},
   "outputs": [
    {
     "data": {
      "text/plain": [
       "tensor([[1., 1., 0., 0., 0., 0., 1., 1.],\n",
       "        [1., 1., 0., 0., 0., 0., 1., 1.],\n",
       "        [1., 1., 0., 0., 0., 0., 1., 1.],\n",
       "        [1., 1., 0., 0., 0., 0., 1., 1.],\n",
       "        [1., 1., 0., 0., 0., 0., 1., 1.],\n",
       "        [1., 1., 0., 0., 0., 0., 1., 1.]])"
      ]
     },
     "execution_count": 7,
     "metadata": {},
     "output_type": "execute_result"
    }
   ],
   "source": [
    "X = torch.ones((6,8))\n",
    "X[:, 2:6] = 0\n",
    "X"
   ]
  },
  {
   "cell_type": "markdown",
   "id": "7226a0e8",
   "metadata": {},
   "source": [
    "Then, construct kernal composed with (1,2) size.\n",
    "\n",
    "-> Perform cross-correlation operation with the input.\n",
    "\n",
    "-> If horizontally adjacent elements are the same, the output is 0.\n",
    "\n",
    "-> Otherwise, the output is non-zero."
   ]
  },
  {
   "cell_type": "code",
   "execution_count": 8,
   "id": "44f59394",
   "metadata": {},
   "outputs": [
    {
     "data": {
      "text/plain": [
       "tensor([[ 0.,  1.,  0.,  0.,  0., -1.,  0.],\n",
       "        [ 0.,  1.,  0.,  0.,  0., -1.,  0.],\n",
       "        [ 0.,  1.,  0.,  0.,  0., -1.,  0.],\n",
       "        [ 0.,  1.,  0.,  0.,  0., -1.,  0.],\n",
       "        [ 0.,  1.,  0.,  0.,  0., -1.,  0.],\n",
       "        [ 0.,  1.,  0.,  0.,  0., -1.,  0.]])"
      ]
     },
     "execution_count": 8,
     "metadata": {},
     "output_type": "execute_result"
    }
   ],
   "source": [
    "K = torch.tensor([[1.0, -1.0]])\n",
    "Y = corr2d(X, K)\n",
    "Y"
   ]
  },
  {
   "cell_type": "markdown",
   "id": "516265df",
   "metadata": {},
   "source": [
    "# 6.2.4. Learning a Kernel"
   ]
  },
  {
   "cell_type": "markdown",
   "id": "4659e1e1",
   "metadata": {},
   "source": [
    "우리가 지금 확인하려는 이미지의 구성이 0,1이라는 것을 알기 때문에, kernel을 -1,1로 값을 주고서 쉽게 결과를 얻었다.\n",
    "\n",
    "그러나, larger kernels, successive layers of convolutions를 고려해야 된다면 가장 좋은 kernel의 value를 얻는 것은 불가능.\n",
    "\n",
    "따라서, kernel을 학습해야한다.\n",
    "\n",
    "\n",
    "처음 kernel 값은 random하게 initialization해주고, iteration마다 squared error을 사용하여 Y값과 비교해준다."
   ]
  },
  {
   "cell_type": "code",
   "execution_count": 9,
   "id": "ebbb3b02",
   "metadata": {},
   "outputs": [
    {
     "name": "stdout",
     "output_type": "stream",
     "text": [
      "batch 2, loss 11.046\n",
      "batch 4, loss 2.169\n",
      "batch 6, loss 0.493\n",
      "batch 8, loss 0.136\n",
      "batch 10, loss 0.044\n"
     ]
    },
    {
     "name": "stderr",
     "output_type": "stream",
     "text": [
      "[W NNPACK.cpp:79] Could not initialize NNPACK! Reason: Unsupported hardware.\n"
     ]
    }
   ],
   "source": [
    "conv2d = nn.Conv2d(1,1,kernel_size=(1,2), bias=False)\n",
    "\n",
    "X = X.reshape((1,1,6,8))\n",
    "Y = Y.reshape((1,1,6,7))\n",
    "lr = 3e-2\n",
    "\n",
    "for i in range(10):\n",
    "    Y_hat = conv2d(X)\n",
    "    l = (Y_hat-Y)**2\n",
    "    conv2d.zero_grad()\n",
    "    l.sum().backward()\n",
    "    \n",
    "    conv2d.weight.data[:] -= lr * conv2d.weight.grad\n",
    "    if (i+1) % 2==0:\n",
    "        print(f'batch {i+1}, loss {l.sum():.3f}')"
   ]
  },
  {
   "cell_type": "code",
   "execution_count": 10,
   "id": "74e175dd",
   "metadata": {},
   "outputs": [
    {
     "data": {
      "text/plain": [
       "tensor([[ 1.0036, -0.9640]])"
      ]
     },
     "execution_count": 10,
     "metadata": {},
     "output_type": "execute_result"
    }
   ],
   "source": [
    "conv2d.weight.data.reshape((1,2))"
   ]
  }
 ],
 "metadata": {
  "kernelspec": {
   "display_name": "Python 3 (ipykernel)",
   "language": "python",
   "name": "python3"
  },
  "language_info": {
   "codemirror_mode": {
    "name": "ipython",
    "version": 3
   },
   "file_extension": ".py",
   "mimetype": "text/x-python",
   "name": "python",
   "nbconvert_exporter": "python",
   "pygments_lexer": "ipython3",
   "version": "3.9.6"
  }
 },
 "nbformat": 4,
 "nbformat_minor": 5
}
